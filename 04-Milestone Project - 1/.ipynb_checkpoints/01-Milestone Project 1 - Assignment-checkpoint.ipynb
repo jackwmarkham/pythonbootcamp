{
 "cells": [
  {
   "cell_type": "markdown",
   "metadata": {},
   "source": [
    "# Milestone Project 1\n",
    "## Congratulations on making it to your first milestone!\n",
    "You've already learned a ton and are ready to work on a real project.\n",
    "\n",
    "Your assignment: Create a Tic Tac Toe game. You are free to use any IDE you like.\n",
    "\n",
    "Here are the requirements:\n",
    "\n",
    "* 2 players should be able to play the game (both sitting at the same computer)\n",
    "* The board should be printed out every time a player makes a move\n",
    "* You should be able to accept input of the player position and then place a symbol on the board\n",
    "\n",
    "Feel free to use Google to help you figure anything out (but don't just Google \"Tic Tac Toe in Python\" otherwise you won't learn anything!) Keep in mind that this project can take anywhere between several hours to several days.\n",
    "\n",
    "There are 4 Jupyter Notebooks related to this assignment:\n",
    "\n",
    "* This Assignment Notebook\n",
    "* A \"Walkthrough Steps Workbook\" Notebook\n",
    "* A \"Complete Walkthrough Solution\" Notebook\n",
    "* An \"Advanced Solution\" Notebook\n",
    "\n",
    "I encourage you to just try to start the project on your own without referencing any of the notebooks. If you get stuck, check out the next lecture which is a text lecture with helpful hints and steps. If you're still stuck after that, then check out the Walkthrough Steps Workbook, which breaks up the project in steps for you to solve. Still stuck? Then check out the Complete Walkthrough Solution video for more help on approaching the project!"
   ]
  },
  {
   "cell_type": "code",
   "execution_count": null,
   "metadata": {},
   "outputs": [],
   "source": []
  },
  {
   "cell_type": "markdown",
   "metadata": {},
   "source": [
    "\n",
    "There are parts of this that will be a struggle...and that is good! I have complete faith that if you have made it this far through the course you have all the tools and knowledge to tackle this project. Remember, it's totally open book, so take your time, do a little research, and remember:\n",
    "\n",
    "## HAVE FUN!"
   ]
  },
  {
   "cell_type": "code",
   "execution_count": 23,
   "metadata": {},
   "outputs": [
    {
     "name": "stdout",
     "output_type": "stream",
     "text": [
      "[[1, 2, 3], [4, 5, 6], [7, 8, 9], [1, 4, 7], [2, 5, 8], [3, 6, 9], [1, 5, 9], [3, 5, 7]]\n"
     ]
    }
   ],
   "source": [
    "board = [1,2,3,4,5,6,7,8,9]\n",
    "print([board[:3],board[3:6],board[6:9],board[0:7:3],board[1:8:3],board[2:9:3],board[0:9:4],board[2:8:2]])"
   ]
  },
  {
   "cell_type": "code",
   "execution_count": 4,
   "metadata": {},
   "outputs": [
    {
     "name": "stdout",
     "output_type": "stream",
     "text": [
      "\n",
      "1|2|3\n",
      "-----\n",
      "4|5|6\n",
      "-----\n",
      "7|8|9\n",
      "\n",
      "Player 1 choose a square: 1\n",
      "\n",
      "X|2|3\n",
      "-----\n",
      "4|5|6\n",
      "-----\n",
      "7|8|9\n",
      "\n",
      "Player 2 choose a square: 2\n",
      "\n",
      "X|O|3\n",
      "-----\n",
      "4|5|6\n",
      "-----\n",
      "7|8|9\n",
      "\n",
      "Player 1 choose a square: 3\n",
      "\n",
      "X|O|X\n",
      "-----\n",
      "4|5|6\n",
      "-----\n",
      "7|8|9\n",
      "\n",
      "Player 2 choose a square: 4\n",
      "\n",
      "X|O|X\n",
      "-----\n",
      "O|5|6\n",
      "-----\n",
      "7|8|9\n",
      "\n",
      "Player 1 choose a square: 5\n",
      "\n",
      "X|O|X\n",
      "-----\n",
      "O|X|6\n",
      "-----\n",
      "7|8|9\n",
      "\n",
      "Player 2 choose a square: 6\n",
      "\n",
      "X|O|X\n",
      "-----\n",
      "O|X|O\n",
      "-----\n",
      "7|8|9\n",
      "\n",
      "Player 1 choose a square: 7\n",
      "\n",
      "X|O|X\n",
      "-----\n",
      "O|X|O\n",
      "-----\n",
      "X|8|9\n",
      "\n",
      "Player 1 wins!\n"
     ]
    }
   ],
   "source": [
    "def tictactoe():\n",
    "    def wincheck():\n",
    "        x = False\n",
    "        for p in [\"O\",\"X\"]:\n",
    "            if [p,p,p] in [board[-1:2],board[2:5],board[5:8],board[-1:6:3],board[0:7:3],board[1:8:3],board[-1:8:4],board[2:8:2]]:\n",
    "                x = True\n",
    "        return x\n",
    "    def showboard():\n",
    "        print(f\"\\n{board[0]}|{board[1]}|{board[2]}\\n-----\\n{board[3]}|{board[4]}|{board[5]}\\n-----\\n{board[6]}|{board[7]}|{board[8]}\\n\")\n",
    "        \n",
    "    board = [1,2,3,4,5,6,7,8,9]\n",
    "    showboard()\n",
    "    move1 = 0\n",
    "    move2 = 0\n",
    "    while wincheck() == False:\n",
    "        while move1 not in board:\n",
    "            move1 = int(input(\"Player 1 choose a square: \"))\n",
    "        board = [(n ,\"X\")[n == move1] for n in board]\n",
    "        showboard()\n",
    "        last = 1\n",
    "        move1 = 0\n",
    "        if wincheck():\n",
    "            break\n",
    "        while move2 not in board:\n",
    "            move2 = int(input(\"Player 2 choose a square: \"))\n",
    "        board = [(n ,\"O\")[n == move2] for n in board]\n",
    "        showboard()\n",
    "        last = 2\n",
    "        move2 = 0\n",
    "        if wincheck():\n",
    "            break\n",
    "    print(f\"Player {last} wins!\")       \n",
    "    \n",
    "tictactoe()"
   ]
  },
  {
   "cell_type": "code",
   "execution_count": null,
   "metadata": {},
   "outputs": [],
   "source": []
  },
  {
   "cell_type": "code",
   "execution_count": null,
   "metadata": {},
   "outputs": [],
   "source": []
  }
 ],
 "metadata": {
  "kernelspec": {
   "display_name": "Python 3",
   "language": "python",
   "name": "python3"
  }
 },
 "nbformat": 4,
 "nbformat_minor": 1
}
