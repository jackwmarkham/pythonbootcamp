{
 "cells": [
  {
   "cell_type": "markdown",
   "metadata": {},
   "source": [
    "# Milestone Project 2 - Blackjack Game\n",
    "In this milestone project you will be creating a Complete BlackJack Card Game in Python.\n",
    "\n",
    "Here are the requirements:\n",
    "\n",
    "* You need to create a simple text-based [BlackJack](https://en.wikipedia.org/wiki/Blackjack) game\n",
    "* The game needs to have one player versus an automated dealer.\n",
    "* The player can stand or hit.\n",
    "* The player must be able to pick their betting amount.\n",
    "* You need to keep track of the player's total money.\n",
    "* You need to alert the player of wins, losses, or busts, etc...\n",
    "\n",
    "And most importantly:\n",
    "\n",
    "* **You must use OOP and classes in some portion of your game. You can not just use functions in your game. Use classes to help you define the Deck and the Player's hand. There are many right ways to do this, so explore it well!**\n",
    "\n",
    "\n",
    "Feel free to expand this game. Try including multiple players. Try adding in Double-Down and card splits! Remember to you are free to use any resources you want and as always:\n",
    "\n",
    "# HAVE FUN!"
   ]
  },
  {
   "cell_type": "code",
   "execution_count": 80,
   "metadata": {},
   "outputs": [],
   "source": [
    "import random\n",
    "\n",
    "class Hand: \n",
    "    \n",
    "    def __init__(self):\n",
    "        self.cards = []\n",
    "        self.value = 0\n",
    "    \n",
    "    def deal(self):\n",
    "        self.cards.append(get_card())\n",
    "        self.cards.append(get_card())\n",
    "        print(self.cards)\n",
    "    \n",
    "    def calc_score(self):    \n",
    "        s = 0\n",
    "        for c in self.cards:\n",
    "            if c[0] in list(range(2,10)):\n",
    "                s += c[0]\n",
    "            elif c[0] in [\"1\",\"J\",\"Q\",\"K\"]:\n",
    "                s += 10\n",
    "            elif c[0] == \"A\":\n",
    "                s += 11\n",
    "        if s > 21:\n",
    "            s = 0\n",
    "            for c in self.cards:\n",
    "                if c[0] in list(range(2,10)):\n",
    "                    s += c[0]\n",
    "                elif c[0] in [\"1\",\"J\",\"Q\",\"K\"]:\n",
    "                    s += 10\n",
    "                elif c[0] == \"A\":\n",
    "                    s += 1\n",
    "        if s > 21:\n",
    "            self.value = \"BUST\"\n",
    "            return self.value\n",
    "        else:\n",
    "            self.value = s\n",
    "            return self.value\n",
    "        \n",
    "        \n",
    "        \n",
    "def get_card():\n",
    "    c = random.choice(deck)\n",
    "    deck.remove(c)\n",
    "    return c\n",
    "        \n",
    "    \n",
    "        \n",
    "deck = [\"2C\",\"3C\",\"4C\",\"5C\",\"6C\",\"7C\",\"8C\",\"9C\",\"10C\",\"JC\",\"QC\",\"KC\",\"AC\",\"2S\",\"3S\",\"4S\",\"5S\",\"6S\",\"7S\",\"8S\",\"9S\",\"10S\",\"JS\",\"QS\",\"KS\",\"AS\",\"2D\",\"3D\",\"4D\",\"5D\",\"6D\",\"7D\",\"8D\",\"9D\",\"10D\",\"JD\",\"QD\",\"KD\",\"AD\",\"2H\",\"3H\",\"4H\",\"5H\",\"6H\",\"7H\",\"8H\",\"9H\",\"10H\",\"JH\",\"QH\",\"KH\",\"AH\"]\n",
    "\n",
    "\n",
    "    "
   ]
  },
  {
   "cell_type": "code",
   "execution_count": 81,
   "metadata": {},
   "outputs": [],
   "source": [
    "jack = Hand()\n"
   ]
  },
  {
   "cell_type": "code",
   "execution_count": 82,
   "metadata": {},
   "outputs": [
    {
     "name": "stdout",
     "output_type": "stream",
     "text": [
      "['7S', 'JD']\n"
     ]
    }
   ],
   "source": [
    "jack.deal()"
   ]
  },
  {
   "cell_type": "code",
   "execution_count": 83,
   "metadata": {},
   "outputs": [
    {
     "data": {
      "text/plain": [
       "10"
      ]
     },
     "execution_count": 83,
     "metadata": {},
     "output_type": "execute_result"
    }
   ],
   "source": [
    "jack.calc_score()"
   ]
  },
  {
   "cell_type": "code",
   "execution_count": null,
   "metadata": {},
   "outputs": [],
   "source": []
  },
  {
   "cell_type": "code",
   "execution_count": null,
   "metadata": {},
   "outputs": [],
   "source": []
  },
  {
   "cell_type": "code",
   "execution_count": null,
   "metadata": {},
   "outputs": [],
   "source": []
  },
  {
   "cell_type": "code",
   "execution_count": null,
   "metadata": {},
   "outputs": [],
   "source": []
  },
  {
   "cell_type": "code",
   "execution_count": null,
   "metadata": {},
   "outputs": [],
   "source": []
  }
 ],
 "metadata": {
  "kernelspec": {
   "display_name": "Python 3",
   "language": "python",
   "name": "python3"
  },
  "language_info": {
   "codemirror_mode": {
    "name": "ipython",
    "version": 3
   },
   "file_extension": ".py",
   "mimetype": "text/x-python",
   "name": "python",
   "nbconvert_exporter": "python",
   "pygments_lexer": "ipython3",
   "version": "3.7.3"
  }
 },
 "nbformat": 4,
 "nbformat_minor": 1
}
