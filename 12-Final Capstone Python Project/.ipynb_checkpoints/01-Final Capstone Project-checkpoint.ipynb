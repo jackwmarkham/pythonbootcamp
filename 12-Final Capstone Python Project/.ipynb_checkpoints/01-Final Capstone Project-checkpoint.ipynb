{
 "cells": [
  {
   "cell_type": "markdown",
   "metadata": {
    "collapsed": true
   },
   "source": [
    "# Final Capstone Projects\n",
    "\n",
    "Please refer to the [**Final Capstone Projects**](http://nbviewer.jupyter.org/github/jmportilla/Complete-Python-Bootcamp/tree/master/Final%20Capstone%20Projects/) folder to get all the info on final capstone project ideas and possible solutions!"
   ]
  },
  {
   "cell_type": "code",
   "execution_count": 6,
   "metadata": {},
   "outputs": [
    {
     "name": "stdout",
     "output_type": "stream",
     "text": [
      "How many flips: 100\n",
      "Heads: 51\n",
      "Tails: 49\n"
     ]
    }
   ],
   "source": [
    "#Coin Flip Simulation\n",
    "\n",
    "from random import randint\n",
    "\n",
    "def flip(num):\n",
    "    a=0\n",
    "    for _ in range(num):\n",
    "        a += randint(0,1)\n",
    "    print(f\"Heads: {a}\\nTails: {num-a}\")\n",
    "    \n",
    "x = input(\"How many flips: \")\n",
    "\n",
    "flip(int(x))\n",
    "        "
   ]
  },
  {
   "cell_type": "code",
   "execution_count": null,
   "metadata": {},
   "outputs": [],
   "source": []
  },
  {
   "cell_type": "code",
   "execution_count": null,
   "metadata": {},
   "outputs": [],
   "source": []
  }
 ],
 "metadata": {
  "kernelspec": {
   "display_name": "Python 3",
   "language": "python",
   "name": "python3"
  },
  "language_info": {
   "codemirror_mode": {
    "name": "ipython",
    "version": 3
   },
   "file_extension": ".py",
   "mimetype": "text/x-python",
   "name": "python",
   "nbconvert_exporter": "python",
   "pygments_lexer": "ipython3",
   "version": "3.7.3"
  }
 },
 "nbformat": 4,
 "nbformat_minor": 1
}
